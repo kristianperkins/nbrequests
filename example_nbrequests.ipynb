{
 "cells": [
  {
   "cell_type": "markdown",
   "metadata": {},
   "source": [
    "# Example nbrequests\n",
    "\n",
    "Pretty printing requests/responses from the [python requests](http://requests.readthedocs.io/) library in Jupyter notebook."
   ]
  },
  {
   "cell_type": "code",
   "execution_count": 1,
   "metadata": {
    "ExecuteTime": {
     "end_time": "2017-05-28T02:50:54.167817Z",
     "start_time": "2017-05-28T02:50:53.660889Z"
    },
    "collapsed": true
   },
   "outputs": [],
   "source": [
    "# autoreload for development\n",
    "%load_ext autoreload\n",
    "%autoreload 1\n",
    "%aimport nbrequests\n",
    "\n",
    "import requests\n",
    "from nbrequests import display_request"
   ]
  },
  {
   "cell_type": "markdown",
   "metadata": {},
   "source": [
    "## GET request\n",
    "\n",
    "Execute `requests.get('...')` and format the result in the notebook output using `display_request(r)`."
   ]
  },
  {
   "cell_type": "code",
   "execution_count": 2,
   "metadata": {
    "ExecuteTime": {
     "end_time": "2017-05-28T02:50:56.775256Z",
     "start_time": "2017-05-28T02:50:55.548275Z"
    }
   },
   "outputs": [
    {
     "data": {
      "text/html": [
       "\n",
       "<style type=\"text/css\">\n",
       "\n",
       "    div.dr-0a40bd60-4fba-4e65-945b-1b66d2c2b9cb {\n",
       "        width: 100%;\n",
       "    }\n",
       "    div.dr-request-0a40bd60-4fba-4e65-945b-1b66d2c2b9cb {\n",
       "        border: 1px solid #5cb85c;\n",
       "        display: flex;\n",
       "    }\n",
       "    div.dr-request-method-0a40bd60-4fba-4e65-945b-1b66d2c2b9cb {\n",
       "        border-right: 1px solid #5cb85c;\n",
       "        text-align: center;\n",
       "        flex: 0 0 50px;\n",
       "    }\n",
       "    div.dr-request-url-0a40bd60-4fba-4e65-945b-1b66d2c2b9cb {\n",
       "        flex: 1;\n",
       "        padding: 0 5px;\n",
       "    }\n",
       "    div.dr-request-status-0a40bd60-4fba-4e65-945b-1b66d2c2b9cb {\n",
       "        flex: 0 0 40px;\n",
       "        text-align: right;\n",
       "        padding: 0 5px;\n",
       "    }\n",
       "\n",
       "    div.dr-0a40bd60-4fba-4e65-945b-1b66d2c2b9cb > h4 {\n",
       "        padding-bottom: 5px;\n",
       "        text-decoration: underline;\n",
       "    }\n",
       "    div.dr-elapsed-0a40bd60-4fba-4e65-945b-1b66d2c2b9cb {\n",
       "        padding: 5px 0;\n",
       "        font-style: italic;\n",
       "        font-size: 0.9em;\n",
       "    }\n",
       "</style>\n",
       "\n",
       "<div class='dr-0a40bd60-4fba-4e65-945b-1b66d2c2b9cb'>\n",
       "\n",
       "    <div class=\"dr-request-0a40bd60-4fba-4e65-945b-1b66d2c2b9cb\">\n",
       "        <div class=\"dr-request-method-0a40bd60-4fba-4e65-945b-1b66d2c2b9cb\">\n",
       "            GET\n",
       "        </div>\n",
       "        <div class=\"dr-request-url-0a40bd60-4fba-4e65-945b-1b66d2c2b9cb\">\n",
       "            <pre>http://httpbin.org/get</pre>\n",
       "        </div>\n",
       "        <div class=\"dr-request-status-0a40bd60-4fba-4e65-945b-1b66d2c2b9cb\">\n",
       "            <span title=\"OK\">200</span>\n",
       "        </div>\n",
       "    </div>\n",
       "    \n",
       "    <h4>Response</h4>\n",
       "    <div id=\"9d4f81d7-d91d-4a07-8837-156c60785931\" style=\"max-height: 600px; width:100%;\">\n",
       "      \n",
       "    </div>\n",
       "    <div class=\"dr-elapsed-0a40bd60-4fba-4e65-945b-1b66d2c2b9cb\">\n",
       "        took 0.743784 seconds\n",
       "    </div>\n",
       "</div>"
      ]
     },
     "metadata": {},
     "output_type": "display_data"
    },
    {
     "data": {
      "application/javascript": [
       "\n",
       "require([\"https://rawgit.com/caldwell/renderjson/master/renderjson.js\"], function() {\n",
       "  \n",
       "  \n",
       "    document.getElementById('9d4f81d7-d91d-4a07-8837-156c60785931').innerHTML = '';\n",
       "    document.getElementById('9d4f81d7-d91d-4a07-8837-156c60785931').appendChild(renderjson({\n",
       "  \"args\": {}, \n",
       "  \"headers\": {\n",
       "    \"Accept\": \"*/*\", \n",
       "    \"Accept-Encoding\": \"gzip, deflate\", \n",
       "    \"Connection\": \"close\", \n",
       "    \"Host\": \"httpbin.org\", \n",
       "    \"User-Agent\": \"python-requests/2.14.2\"\n",
       "  }, \n",
       "  \"origin\": \"118.208.28.129\", \n",
       "  \"url\": \"http://httpbin.org/get\"\n",
       "}\n",
       "));\n",
       "  \n",
       "});\n"
      ]
     },
     "metadata": {},
     "output_type": "display_data"
    }
   ],
   "source": [
    "r = requests.get('http://httpbin.org/get')\n",
    "display_request(r)"
   ]
  },
  {
   "cell_type": "markdown",
   "metadata": {},
   "source": [
    "## POST request"
   ]
  },
  {
   "cell_type": "code",
   "execution_count": 6,
   "metadata": {
    "ExecuteTime": {
     "end_time": "2017-05-28T02:58:57.708099Z",
     "start_time": "2017-05-28T02:58:54.793062Z"
    }
   },
   "outputs": [
    {
     "data": {
      "text/html": [
       "\n",
       "<style type=\"text/css\">\n",
       "\n",
       "    div.dr-6efe7d3f-84a2-4e97-9ca5-b94addbf4aa3 {\n",
       "        width: 100%;\n",
       "    }\n",
       "    div.dr-request-6efe7d3f-84a2-4e97-9ca5-b94addbf4aa3 {\n",
       "        border: 1px solid #5cb85c;\n",
       "        display: flex;\n",
       "    }\n",
       "    div.dr-request-method-6efe7d3f-84a2-4e97-9ca5-b94addbf4aa3 {\n",
       "        border-right: 1px solid #5cb85c;\n",
       "        text-align: center;\n",
       "        flex: 0 0 50px;\n",
       "    }\n",
       "    div.dr-request-url-6efe7d3f-84a2-4e97-9ca5-b94addbf4aa3 {\n",
       "        flex: 1;\n",
       "        padding: 0 5px;\n",
       "    }\n",
       "    div.dr-request-status-6efe7d3f-84a2-4e97-9ca5-b94addbf4aa3 {\n",
       "        flex: 0 0 40px;\n",
       "        text-align: right;\n",
       "        padding: 0 5px;\n",
       "    }\n",
       "\n",
       "    div.dr-6efe7d3f-84a2-4e97-9ca5-b94addbf4aa3 > h4 {\n",
       "        padding-bottom: 5px;\n",
       "        text-decoration: underline;\n",
       "    }\n",
       "    div.dr-elapsed-6efe7d3f-84a2-4e97-9ca5-b94addbf4aa3 {\n",
       "        padding: 5px 0;\n",
       "        font-style: italic;\n",
       "        font-size: 0.9em;\n",
       "    }\n",
       "</style>\n",
       "\n",
       "<div class='dr-6efe7d3f-84a2-4e97-9ca5-b94addbf4aa3'>\n",
       "\n",
       "    <div class=\"dr-request-6efe7d3f-84a2-4e97-9ca5-b94addbf4aa3\">\n",
       "        <div class=\"dr-request-method-6efe7d3f-84a2-4e97-9ca5-b94addbf4aa3\">\n",
       "            POST\n",
       "        </div>\n",
       "        <div class=\"dr-request-url-6efe7d3f-84a2-4e97-9ca5-b94addbf4aa3\">\n",
       "            <pre>http://httpbin.org/post</pre>\n",
       "        </div>\n",
       "        <div class=\"dr-request-status-6efe7d3f-84a2-4e97-9ca5-b94addbf4aa3\">\n",
       "            <span title=\"OK\">200</span>\n",
       "        </div>\n",
       "    </div>\n",
       "    \n",
       "        <h4>Request</h4>\n",
       "        <div id=\"6efe7d3f-84a2-4e97-9ca5-b94addbf4aa3\" style=\"max-height: 600px; width:100%;\">\n",
       "          \n",
       "            <pre>text data</pre>\n",
       "          \n",
       "        </div>\n",
       "    \n",
       "    <h4>Response</h4>\n",
       "    <div id=\"fac522e1-7cca-4782-a6f0-9e42dd38be26\" style=\"max-height: 600px; width:100%;\">\n",
       "      \n",
       "    </div>\n",
       "    <div class=\"dr-elapsed-6efe7d3f-84a2-4e97-9ca5-b94addbf4aa3\">\n",
       "        took 1.308826 seconds\n",
       "    </div>\n",
       "</div>"
      ]
     },
     "metadata": {},
     "output_type": "display_data"
    },
    {
     "data": {
      "application/javascript": [
       "\n",
       "require([\"https://rawgit.com/caldwell/renderjson/master/renderjson.js\"], function() {\n",
       "  \n",
       "  \n",
       "    document.getElementById('fac522e1-7cca-4782-a6f0-9e42dd38be26').innerHTML = '';\n",
       "    document.getElementById('fac522e1-7cca-4782-a6f0-9e42dd38be26').appendChild(renderjson({\n",
       "  \"args\": {}, \n",
       "  \"data\": \"text data\", \n",
       "  \"files\": {}, \n",
       "  \"form\": {}, \n",
       "  \"headers\": {\n",
       "    \"Accept\": \"*/*\", \n",
       "    \"Accept-Encoding\": \"gzip, deflate\", \n",
       "    \"Connection\": \"close\", \n",
       "    \"Content-Length\": \"9\", \n",
       "    \"Host\": \"httpbin.org\", \n",
       "    \"User-Agent\": \"python-requests/2.14.2\"\n",
       "  }, \n",
       "  \"json\": null, \n",
       "  \"origin\": \"118.208.28.129\", \n",
       "  \"url\": \"http://httpbin.org/post\"\n",
       "}\n",
       "));\n",
       "  \n",
       "});\n"
      ]
     },
     "metadata": {},
     "output_type": "display_data"
    },
    {
     "data": {
      "text/html": [
       "\n",
       "<style type=\"text/css\">\n",
       "\n",
       "    div.dr-fc7e3357-3f69-4712-abc6-fcf8cbfc9a21 {\n",
       "        width: 100%;\n",
       "    }\n",
       "    div.dr-request-fc7e3357-3f69-4712-abc6-fcf8cbfc9a21 {\n",
       "        border: 1px solid #5cb85c;\n",
       "        display: flex;\n",
       "    }\n",
       "    div.dr-request-method-fc7e3357-3f69-4712-abc6-fcf8cbfc9a21 {\n",
       "        border-right: 1px solid #5cb85c;\n",
       "        text-align: center;\n",
       "        flex: 0 0 50px;\n",
       "    }\n",
       "    div.dr-request-url-fc7e3357-3f69-4712-abc6-fcf8cbfc9a21 {\n",
       "        flex: 1;\n",
       "        padding: 0 5px;\n",
       "    }\n",
       "    div.dr-request-status-fc7e3357-3f69-4712-abc6-fcf8cbfc9a21 {\n",
       "        flex: 0 0 40px;\n",
       "        text-align: right;\n",
       "        padding: 0 5px;\n",
       "    }\n",
       "\n",
       "    div.dr-fc7e3357-3f69-4712-abc6-fcf8cbfc9a21 > h4 {\n",
       "        padding-bottom: 5px;\n",
       "        text-decoration: underline;\n",
       "    }\n",
       "    div.dr-elapsed-fc7e3357-3f69-4712-abc6-fcf8cbfc9a21 {\n",
       "        padding: 5px 0;\n",
       "        font-style: italic;\n",
       "        font-size: 0.9em;\n",
       "    }\n",
       "</style>\n",
       "\n",
       "<div class='dr-fc7e3357-3f69-4712-abc6-fcf8cbfc9a21'>\n",
       "\n",
       "    <div class=\"dr-request-fc7e3357-3f69-4712-abc6-fcf8cbfc9a21\">\n",
       "        <div class=\"dr-request-method-fc7e3357-3f69-4712-abc6-fcf8cbfc9a21\">\n",
       "            POST\n",
       "        </div>\n",
       "        <div class=\"dr-request-url-fc7e3357-3f69-4712-abc6-fcf8cbfc9a21\">\n",
       "            <pre>http://httpbin.org/post</pre>\n",
       "        </div>\n",
       "        <div class=\"dr-request-status-fc7e3357-3f69-4712-abc6-fcf8cbfc9a21\">\n",
       "            <span title=\"OK\">200</span>\n",
       "        </div>\n",
       "    </div>\n",
       "    \n",
       "        <h4>Request</h4>\n",
       "        <div id=\"fc7e3357-3f69-4712-abc6-fcf8cbfc9a21\" style=\"max-height: 600px; width:100%;\">\n",
       "          \n",
       "            <pre>b'binary data'</pre>\n",
       "          \n",
       "        </div>\n",
       "    \n",
       "    <h4>Response</h4>\n",
       "    <div id=\"73994348-4c0c-45e7-9a89-13305a5a9ea5\" style=\"max-height: 600px; width:100%;\">\n",
       "      \n",
       "    </div>\n",
       "    <div class=\"dr-elapsed-fc7e3357-3f69-4712-abc6-fcf8cbfc9a21\">\n",
       "        took 1.456696 seconds\n",
       "    </div>\n",
       "</div>"
      ]
     },
     "metadata": {},
     "output_type": "display_data"
    },
    {
     "data": {
      "application/javascript": [
       "\n",
       "require([\"https://rawgit.com/caldwell/renderjson/master/renderjson.js\"], function() {\n",
       "  \n",
       "  \n",
       "    document.getElementById('73994348-4c0c-45e7-9a89-13305a5a9ea5').innerHTML = '';\n",
       "    document.getElementById('73994348-4c0c-45e7-9a89-13305a5a9ea5').appendChild(renderjson({\n",
       "  \"args\": {}, \n",
       "  \"data\": \"binary data\", \n",
       "  \"files\": {}, \n",
       "  \"form\": {}, \n",
       "  \"headers\": {\n",
       "    \"Accept\": \"*/*\", \n",
       "    \"Accept-Encoding\": \"gzip, deflate\", \n",
       "    \"Connection\": \"close\", \n",
       "    \"Content-Length\": \"11\", \n",
       "    \"Host\": \"httpbin.org\", \n",
       "    \"User-Agent\": \"python-requests/2.14.2\"\n",
       "  }, \n",
       "  \"json\": null, \n",
       "  \"origin\": \"118.208.28.129\", \n",
       "  \"url\": \"http://httpbin.org/post\"\n",
       "}\n",
       "));\n",
       "  \n",
       "});\n"
      ]
     },
     "metadata": {},
     "output_type": "display_data"
    }
   ],
   "source": [
    "r = requests.post('http://httpbin.org/post', data='text data')\n",
    "display_request(r)\n",
    "r = requests.post('http://httpbin.org/post', data=b'binary data')\n",
    "display_request(r)"
   ]
  },
  {
   "cell_type": "markdown",
   "metadata": {},
   "source": [
    "## JSON POST request\n",
    "\n",
    "JSON is currently renderer using [Renderjson](https://github.com/caldwell/renderjson/)."
   ]
  },
  {
   "cell_type": "code",
   "execution_count": 4,
   "metadata": {
    "ExecuteTime": {
     "end_time": "2017-05-28T02:50:58.917142Z",
     "start_time": "2017-05-28T02:50:58.311984Z"
    }
   },
   "outputs": [
    {
     "data": {
      "text/html": [
       "\n",
       "<style type=\"text/css\">\n",
       "\n",
       "    div.dr-0819fcdd-7ac5-4bdb-97f9-ceef13df216e {\n",
       "        width: 100%;\n",
       "    }\n",
       "    div.dr-request-0819fcdd-7ac5-4bdb-97f9-ceef13df216e {\n",
       "        border: 1px solid #5cb85c;\n",
       "        display: flex;\n",
       "    }\n",
       "    div.dr-request-method-0819fcdd-7ac5-4bdb-97f9-ceef13df216e {\n",
       "        border-right: 1px solid #5cb85c;\n",
       "        text-align: center;\n",
       "        flex: 0 0 50px;\n",
       "    }\n",
       "    div.dr-request-url-0819fcdd-7ac5-4bdb-97f9-ceef13df216e {\n",
       "        flex: 1;\n",
       "        padding: 0 5px;\n",
       "    }\n",
       "    div.dr-request-status-0819fcdd-7ac5-4bdb-97f9-ceef13df216e {\n",
       "        flex: 0 0 40px;\n",
       "        text-align: right;\n",
       "        padding: 0 5px;\n",
       "    }\n",
       "\n",
       "    div.dr-0819fcdd-7ac5-4bdb-97f9-ceef13df216e > h4 {\n",
       "        padding-bottom: 5px;\n",
       "        text-decoration: underline;\n",
       "    }\n",
       "    div.dr-elapsed-0819fcdd-7ac5-4bdb-97f9-ceef13df216e {\n",
       "        padding: 5px 0;\n",
       "        font-style: italic;\n",
       "        font-size: 0.9em;\n",
       "    }\n",
       "</style>\n",
       "\n",
       "<div class='dr-0819fcdd-7ac5-4bdb-97f9-ceef13df216e'>\n",
       "\n",
       "    <div class=\"dr-request-0819fcdd-7ac5-4bdb-97f9-ceef13df216e\">\n",
       "        <div class=\"dr-request-method-0819fcdd-7ac5-4bdb-97f9-ceef13df216e\">\n",
       "            POST\n",
       "        </div>\n",
       "        <div class=\"dr-request-url-0819fcdd-7ac5-4bdb-97f9-ceef13df216e\">\n",
       "            <pre>http://httpbin.org/post</pre>\n",
       "        </div>\n",
       "        <div class=\"dr-request-status-0819fcdd-7ac5-4bdb-97f9-ceef13df216e\">\n",
       "            <span title=\"OK\">200</span>\n",
       "        </div>\n",
       "    </div>\n",
       "    \n",
       "        <h4>Request</h4>\n",
       "        <div id=\"0819fcdd-7ac5-4bdb-97f9-ceef13df216e\" style=\"max-height: 600px; width:100%;\">\n",
       "          \n",
       "        </div>\n",
       "    \n",
       "    <h4>Response</h4>\n",
       "    <div id=\"74e967c2-8464-467a-ac64-99fbc2941c25\" style=\"max-height: 600px; width:100%;\">\n",
       "      \n",
       "    </div>\n",
       "    <div class=\"dr-elapsed-0819fcdd-7ac5-4bdb-97f9-ceef13df216e\">\n",
       "        took 0.590473 seconds\n",
       "    </div>\n",
       "</div>"
      ]
     },
     "metadata": {},
     "output_type": "display_data"
    },
    {
     "data": {
      "application/javascript": [
       "\n",
       "require([\"https://rawgit.com/caldwell/renderjson/master/renderjson.js\"], function() {\n",
       "  \n",
       "    document.getElementById('0819fcdd-7ac5-4bdb-97f9-ceef13df216e').innerHTML = '';\n",
       "    document.getElementById('0819fcdd-7ac5-4bdb-97f9-ceef13df216e').appendChild(renderjson({\"a\": \"b\"}));\n",
       "  \n",
       "  \n",
       "    document.getElementById('74e967c2-8464-467a-ac64-99fbc2941c25').innerHTML = '';\n",
       "    document.getElementById('74e967c2-8464-467a-ac64-99fbc2941c25').appendChild(renderjson({\n",
       "  \"args\": {}, \n",
       "  \"data\": \"{\\\"a\\\": \\\"b\\\"}\", \n",
       "  \"files\": {}, \n",
       "  \"form\": {}, \n",
       "  \"headers\": {\n",
       "    \"Accept\": \"*/*\", \n",
       "    \"Accept-Encoding\": \"gzip, deflate\", \n",
       "    \"Connection\": \"close\", \n",
       "    \"Content-Length\": \"10\", \n",
       "    \"Content-Type\": \"application/json\", \n",
       "    \"Host\": \"httpbin.org\", \n",
       "    \"User-Agent\": \"python-requests/2.14.2\"\n",
       "  }, \n",
       "  \"json\": {\n",
       "    \"a\": \"b\"\n",
       "  }, \n",
       "  \"origin\": \"118.208.28.129\", \n",
       "  \"url\": \"http://httpbin.org/post\"\n",
       "}\n",
       "));\n",
       "  \n",
       "});\n"
      ]
     },
     "metadata": {},
     "output_type": "display_data"
    }
   ],
   "source": [
    "import json\n",
    "r = requests.post('http://httpbin.org/post', json={\"a\": \"b\"})\n",
    "display_request(r)"
   ]
  },
  {
   "cell_type": "markdown",
   "metadata": {},
   "source": [
    "## 500 error response"
   ]
  },
  {
   "cell_type": "code",
   "execution_count": 5,
   "metadata": {
    "ExecuteTime": {
     "end_time": "2017-05-28T02:51:00.234942Z",
     "start_time": "2017-05-28T02:50:59.637500Z"
    }
   },
   "outputs": [
    {
     "data": {
      "text/html": [
       "\n",
       "<style type=\"text/css\">\n",
       "\n",
       "    div.dr-63bcc3a4-6d76-49c2-b13f-8575d43fc262 {\n",
       "        width: 100%;\n",
       "    }\n",
       "    div.dr-request-63bcc3a4-6d76-49c2-b13f-8575d43fc262 {\n",
       "        border: 1px solid #d9534f;\n",
       "        display: flex;\n",
       "    }\n",
       "    div.dr-request-method-63bcc3a4-6d76-49c2-b13f-8575d43fc262 {\n",
       "        border-right: 1px solid #d9534f;\n",
       "        text-align: center;\n",
       "        flex: 0 0 50px;\n",
       "    }\n",
       "    div.dr-request-url-63bcc3a4-6d76-49c2-b13f-8575d43fc262 {\n",
       "        flex: 1;\n",
       "        padding: 0 5px;\n",
       "    }\n",
       "    div.dr-request-status-63bcc3a4-6d76-49c2-b13f-8575d43fc262 {\n",
       "        flex: 0 0 40px;\n",
       "        text-align: right;\n",
       "        padding: 0 5px;\n",
       "    }\n",
       "\n",
       "    div.dr-63bcc3a4-6d76-49c2-b13f-8575d43fc262 > h4 {\n",
       "        padding-bottom: 5px;\n",
       "        text-decoration: underline;\n",
       "    }\n",
       "    div.dr-elapsed-63bcc3a4-6d76-49c2-b13f-8575d43fc262 {\n",
       "        padding: 5px 0;\n",
       "        font-style: italic;\n",
       "        font-size: 0.9em;\n",
       "    }\n",
       "</style>\n",
       "\n",
       "<div class='dr-63bcc3a4-6d76-49c2-b13f-8575d43fc262'>\n",
       "\n",
       "    <div class=\"dr-request-63bcc3a4-6d76-49c2-b13f-8575d43fc262\">\n",
       "        <div class=\"dr-request-method-63bcc3a4-6d76-49c2-b13f-8575d43fc262\">\n",
       "            GET\n",
       "        </div>\n",
       "        <div class=\"dr-request-url-63bcc3a4-6d76-49c2-b13f-8575d43fc262\">\n",
       "            <pre>http://httpbin.org/status/500</pre>\n",
       "        </div>\n",
       "        <div class=\"dr-request-status-63bcc3a4-6d76-49c2-b13f-8575d43fc262\">\n",
       "            <span title=\"INTERNAL SERVER ERROR\">500</span>\n",
       "        </div>\n",
       "    </div>\n",
       "    \n",
       "    <h4>Response</h4>\n",
       "    <div id=\"3a998356-7d05-496e-a763-210c84f7a593\" style=\"max-height: 600px; width:100%;\">\n",
       "      \n",
       "        <pre>Empty Response</pre>\n",
       "      \n",
       "    </div>\n",
       "    <div class=\"dr-elapsed-63bcc3a4-6d76-49c2-b13f-8575d43fc262\">\n",
       "        took 0.586833 seconds\n",
       "    </div>\n",
       "</div>"
      ]
     },
     "metadata": {},
     "output_type": "display_data"
    },
    {
     "data": {
      "application/javascript": [
       "\n",
       "require([\"https://rawgit.com/caldwell/renderjson/master/renderjson.js\"], function() {\n",
       "  \n",
       "  \n",
       "});\n"
      ]
     },
     "metadata": {},
     "output_type": "display_data"
    }
   ],
   "source": [
    "r = requests.get('http://httpbin.org/status/500')\n",
    "display_request(r)"
   ]
  }
 ],
 "metadata": {
  "kernelspec": {
   "display_name": "Python 3",
   "language": "python",
   "name": "python3"
  },
  "language_info": {
   "codemirror_mode": {
    "name": "ipython",
    "version": 3
   },
   "file_extension": ".py",
   "mimetype": "text/x-python",
   "name": "python",
   "nbconvert_exporter": "python",
   "pygments_lexer": "ipython3",
   "version": "3.6.1"
  }
 },
 "nbformat": 4,
 "nbformat_minor": 2
}
