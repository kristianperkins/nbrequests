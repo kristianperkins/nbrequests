{
 "cells": [
  {
   "cell_type": "markdown",
   "metadata": {},
   "source": [
    "# Example nbrequests\n",
    "\n",
    "Pretty printing requests/responses from the [python requests](http://requests.readthedocs.io/) library in Jupyter notebook."
   ]
  },
  {
   "cell_type": "code",
   "execution_count": 1,
   "metadata": {
    "ExecuteTime": {
     "end_time": "2017-05-28T01:34:25.163072Z",
     "start_time": "2017-05-28T01:34:24.652958Z"
    },
    "collapsed": true
   },
   "outputs": [],
   "source": [
    "# autoreload for development\n",
    "%load_ext autoreload\n",
    "%autoreload 1\n",
    "%aimport nbrequests\n",
    "\n",
    "import requests\n",
    "from nbrequests import display_request"
   ]
  },
  {
   "cell_type": "markdown",
   "metadata": {},
   "source": [
    "## GET request\n",
    "\n",
    "Execute `requests.get('...')` and format the result in the notebook output using `display_request(r)`."
   ]
  },
  {
   "cell_type": "code",
   "execution_count": 2,
   "metadata": {
    "ExecuteTime": {
     "end_time": "2017-05-28T01:34:26.982725Z",
     "start_time": "2017-05-28T01:34:25.707738Z"
    }
   },
   "outputs": [
    {
     "data": {
      "text/html": [
       "\n",
       "<style type=\"text/css\">\n",
       "\n",
       "    div.dr-0c244739-12c7-4cd2-b796-2d11e3d1f6a2 {\n",
       "        width: 100%;\n",
       "    }\n",
       "    div.dr-request-0c244739-12c7-4cd2-b796-2d11e3d1f6a2 {\n",
       "        border: 1px solid #5cb85c;\n",
       "        display: flex;\n",
       "    }\n",
       "    div.dr-request-method-0c244739-12c7-4cd2-b796-2d11e3d1f6a2 {\n",
       "        border-right: 1px solid #5cb85c;\n",
       "        text-align: center;\n",
       "        flex: 0 0 50px;\n",
       "    }\n",
       "    div.dr-request-url-0c244739-12c7-4cd2-b796-2d11e3d1f6a2 {\n",
       "        flex: 1;\n",
       "        padding: 0 5px;\n",
       "    }\n",
       "    div.dr-request-status-0c244739-12c7-4cd2-b796-2d11e3d1f6a2 {\n",
       "        flex: 0 0 40px;\n",
       "        text-align: right;\n",
       "        padding: 0 5px;\n",
       "    }\n",
       "\n",
       "    div.dr-0c244739-12c7-4cd2-b796-2d11e3d1f6a2 > h4 {\n",
       "        padding-bottom: 5px;\n",
       "        text-decoration: underline;\n",
       "    }\n",
       "    div.dr-elapsed-0c244739-12c7-4cd2-b796-2d11e3d1f6a2 {\n",
       "        padding: 5px 0;\n",
       "        font-style: italic;\n",
       "        font-size: 0.9em;\n",
       "    }\n",
       "</style>\n",
       "\n",
       "<div class='dr-0c244739-12c7-4cd2-b796-2d11e3d1f6a2'>\n",
       "\n",
       "    <div class=\"dr-request-0c244739-12c7-4cd2-b796-2d11e3d1f6a2\">\n",
       "        <div class=\"dr-request-method-0c244739-12c7-4cd2-b796-2d11e3d1f6a2\">\n",
       "            GET\n",
       "        </div>\n",
       "        <div class=\"dr-request-url-0c244739-12c7-4cd2-b796-2d11e3d1f6a2\">\n",
       "            <pre>http://httpbin.org/get</pre>\n",
       "        </div>\n",
       "        <div class=\"dr-request-status-0c244739-12c7-4cd2-b796-2d11e3d1f6a2\">\n",
       "            <span title=\"OK\">200</span>\n",
       "        </div>\n",
       "    </div>\n",
       "    \n",
       "    <h4>Response</h4>\n",
       "    <div id=\"58a88d5e-e39e-4865-82af-b34ed3bbf46c\" style=\"max-height: 600px; width:100%;\">\n",
       "      \n",
       "    </div>\n",
       "    <div class=\"dr-elapsed-0c244739-12c7-4cd2-b796-2d11e3d1f6a2\">\n",
       "        took 1.181903 seconds\n",
       "    </div>\n",
       "</div>"
      ]
     },
     "metadata": {},
     "output_type": "display_data"
    },
    {
     "data": {
      "application/javascript": [
       "\n",
       "require([\"https://rawgit.com/caldwell/renderjson/master/renderjson.js\"], function() {\n",
       "  \n",
       "  \n",
       "    document.getElementById('58a88d5e-e39e-4865-82af-b34ed3bbf46c').innerHTML = '';\n",
       "    document.getElementById('58a88d5e-e39e-4865-82af-b34ed3bbf46c').appendChild(renderjson({\n",
       "  \"args\": {}, \n",
       "  \"headers\": {\n",
       "    \"Accept\": \"*/*\", \n",
       "    \"Accept-Encoding\": \"gzip, deflate\", \n",
       "    \"Connection\": \"close\", \n",
       "    \"Host\": \"httpbin.org\", \n",
       "    \"User-Agent\": \"python-requests/2.14.2\"\n",
       "  }, \n",
       "  \"origin\": \"118.208.28.129\", \n",
       "  \"url\": \"http://httpbin.org/get\"\n",
       "}\n",
       "));\n",
       "  \n",
       "});\n"
      ]
     },
     "metadata": {},
     "output_type": "display_data"
    }
   ],
   "source": [
    "r = requests.get('http://httpbin.org/get')\n",
    "display_request(r)"
   ]
  },
  {
   "cell_type": "markdown",
   "metadata": {},
   "source": [
    "## POST request"
   ]
  },
  {
   "cell_type": "code",
   "execution_count": 3,
   "metadata": {
    "ExecuteTime": {
     "end_time": "2017-05-28T01:34:27.600935Z",
     "start_time": "2017-05-28T01:34:26.984916Z"
    }
   },
   "outputs": [
    {
     "data": {
      "text/html": [
       "\n",
       "<style type=\"text/css\">\n",
       "\n",
       "    div.dr-e545deed-9c13-4d90-a59d-d01d86b61124 {\n",
       "        width: 100%;\n",
       "    }\n",
       "    div.dr-request-e545deed-9c13-4d90-a59d-d01d86b61124 {\n",
       "        border: 1px solid #5cb85c;\n",
       "        display: flex;\n",
       "    }\n",
       "    div.dr-request-method-e545deed-9c13-4d90-a59d-d01d86b61124 {\n",
       "        border-right: 1px solid #5cb85c;\n",
       "        text-align: center;\n",
       "        flex: 0 0 50px;\n",
       "    }\n",
       "    div.dr-request-url-e545deed-9c13-4d90-a59d-d01d86b61124 {\n",
       "        flex: 1;\n",
       "        padding: 0 5px;\n",
       "    }\n",
       "    div.dr-request-status-e545deed-9c13-4d90-a59d-d01d86b61124 {\n",
       "        flex: 0 0 40px;\n",
       "        text-align: right;\n",
       "        padding: 0 5px;\n",
       "    }\n",
       "\n",
       "    div.dr-e545deed-9c13-4d90-a59d-d01d86b61124 > h4 {\n",
       "        padding-bottom: 5px;\n",
       "        text-decoration: underline;\n",
       "    }\n",
       "    div.dr-elapsed-e545deed-9c13-4d90-a59d-d01d86b61124 {\n",
       "        padding: 5px 0;\n",
       "        font-style: italic;\n",
       "        font-size: 0.9em;\n",
       "    }\n",
       "</style>\n",
       "\n",
       "<div class='dr-e545deed-9c13-4d90-a59d-d01d86b61124'>\n",
       "\n",
       "    <div class=\"dr-request-e545deed-9c13-4d90-a59d-d01d86b61124\">\n",
       "        <div class=\"dr-request-method-e545deed-9c13-4d90-a59d-d01d86b61124\">\n",
       "            POST\n",
       "        </div>\n",
       "        <div class=\"dr-request-url-e545deed-9c13-4d90-a59d-d01d86b61124\">\n",
       "            <pre>http://httpbin.org/post</pre>\n",
       "        </div>\n",
       "        <div class=\"dr-request-status-e545deed-9c13-4d90-a59d-d01d86b61124\">\n",
       "            <span title=\"OK\">200</span>\n",
       "        </div>\n",
       "    </div>\n",
       "    \n",
       "        <h4>Request</h4>\n",
       "        <div id=\"e545deed-9c13-4d90-a59d-d01d86b61124\" style=\"max-height: 600px; width:100%;\">\n",
       "          \n",
       "            <pre>text data</pre>\n",
       "          \n",
       "        </div>\n",
       "    \n",
       "    <h4>Response</h4>\n",
       "    <div id=\"acbf2e90-ff4c-4d97-b874-393ebff30ad2\" style=\"max-height: 600px; width:100%;\">\n",
       "      \n",
       "    </div>\n",
       "    <div class=\"dr-elapsed-e545deed-9c13-4d90-a59d-d01d86b61124\">\n",
       "        took 0.598583 seconds\n",
       "    </div>\n",
       "</div>"
      ]
     },
     "metadata": {},
     "output_type": "display_data"
    },
    {
     "data": {
      "application/javascript": [
       "\n",
       "require([\"https://rawgit.com/caldwell/renderjson/master/renderjson.js\"], function() {\n",
       "  \n",
       "  \n",
       "    document.getElementById('acbf2e90-ff4c-4d97-b874-393ebff30ad2').innerHTML = '';\n",
       "    document.getElementById('acbf2e90-ff4c-4d97-b874-393ebff30ad2').appendChild(renderjson({\n",
       "  \"args\": {}, \n",
       "  \"data\": \"text data\", \n",
       "  \"files\": {}, \n",
       "  \"form\": {}, \n",
       "  \"headers\": {\n",
       "    \"Accept\": \"*/*\", \n",
       "    \"Accept-Encoding\": \"gzip, deflate\", \n",
       "    \"Connection\": \"close\", \n",
       "    \"Content-Length\": \"9\", \n",
       "    \"Host\": \"httpbin.org\", \n",
       "    \"User-Agent\": \"python-requests/2.14.2\"\n",
       "  }, \n",
       "  \"json\": null, \n",
       "  \"origin\": \"118.208.28.129\", \n",
       "  \"url\": \"http://httpbin.org/post\"\n",
       "}\n",
       "));\n",
       "  \n",
       "});\n"
      ]
     },
     "metadata": {},
     "output_type": "display_data"
    }
   ],
   "source": [
    "r = requests.post('http://httpbin.org/post', data='text data')\n",
    "display_request(r)"
   ]
  },
  {
   "cell_type": "markdown",
   "metadata": {},
   "source": [
    "## JSON POST request\n",
    "\n",
    "JSON is currently renderer using [Renderjson](https://github.com/caldwell/renderjson/)."
   ]
  },
  {
   "cell_type": "code",
   "execution_count": 4,
   "metadata": {
    "ExecuteTime": {
     "end_time": "2017-05-28T01:34:28.937290Z",
     "start_time": "2017-05-28T01:34:28.403978Z"
    }
   },
   "outputs": [
    {
     "data": {
      "text/html": [
       "\n",
       "<style type=\"text/css\">\n",
       "\n",
       "    div.dr-18adb797-6a99-4e81-8f5c-e28e9652bcbb {\n",
       "        width: 100%;\n",
       "    }\n",
       "    div.dr-request-18adb797-6a99-4e81-8f5c-e28e9652bcbb {\n",
       "        border: 1px solid #5cb85c;\n",
       "        display: flex;\n",
       "    }\n",
       "    div.dr-request-method-18adb797-6a99-4e81-8f5c-e28e9652bcbb {\n",
       "        border-right: 1px solid #5cb85c;\n",
       "        text-align: center;\n",
       "        flex: 0 0 50px;\n",
       "    }\n",
       "    div.dr-request-url-18adb797-6a99-4e81-8f5c-e28e9652bcbb {\n",
       "        flex: 1;\n",
       "        padding: 0 5px;\n",
       "    }\n",
       "    div.dr-request-status-18adb797-6a99-4e81-8f5c-e28e9652bcbb {\n",
       "        flex: 0 0 40px;\n",
       "        text-align: right;\n",
       "        padding: 0 5px;\n",
       "    }\n",
       "\n",
       "    div.dr-18adb797-6a99-4e81-8f5c-e28e9652bcbb > h4 {\n",
       "        padding-bottom: 5px;\n",
       "        text-decoration: underline;\n",
       "    }\n",
       "    div.dr-elapsed-18adb797-6a99-4e81-8f5c-e28e9652bcbb {\n",
       "        padding: 5px 0;\n",
       "        font-style: italic;\n",
       "        font-size: 0.9em;\n",
       "    }\n",
       "</style>\n",
       "\n",
       "<div class='dr-18adb797-6a99-4e81-8f5c-e28e9652bcbb'>\n",
       "\n",
       "    <div class=\"dr-request-18adb797-6a99-4e81-8f5c-e28e9652bcbb\">\n",
       "        <div class=\"dr-request-method-18adb797-6a99-4e81-8f5c-e28e9652bcbb\">\n",
       "            POST\n",
       "        </div>\n",
       "        <div class=\"dr-request-url-18adb797-6a99-4e81-8f5c-e28e9652bcbb\">\n",
       "            <pre>http://httpbin.org/post</pre>\n",
       "        </div>\n",
       "        <div class=\"dr-request-status-18adb797-6a99-4e81-8f5c-e28e9652bcbb\">\n",
       "            <span title=\"OK\">200</span>\n",
       "        </div>\n",
       "    </div>\n",
       "    \n",
       "        <h4>Request</h4>\n",
       "        <div id=\"18adb797-6a99-4e81-8f5c-e28e9652bcbb\" style=\"max-height: 600px; width:100%;\">\n",
       "          \n",
       "        </div>\n",
       "    \n",
       "    <h4>Response</h4>\n",
       "    <div id=\"1ce08231-39c5-41ab-bfe6-34dae924ba7c\" style=\"max-height: 600px; width:100%;\">\n",
       "      \n",
       "    </div>\n",
       "    <div class=\"dr-elapsed-18adb797-6a99-4e81-8f5c-e28e9652bcbb\">\n",
       "        took 0.522171 seconds\n",
       "    </div>\n",
       "</div>"
      ]
     },
     "metadata": {},
     "output_type": "display_data"
    },
    {
     "data": {
      "application/javascript": [
       "\n",
       "require([\"https://rawgit.com/caldwell/renderjson/master/renderjson.js\"], function() {\n",
       "  \n",
       "    document.getElementById('18adb797-6a99-4e81-8f5c-e28e9652bcbb').innerHTML = '';\n",
       "    document.getElementById('18adb797-6a99-4e81-8f5c-e28e9652bcbb').appendChild(renderjson({\"a\": \"b\"}));\n",
       "  \n",
       "  \n",
       "    document.getElementById('1ce08231-39c5-41ab-bfe6-34dae924ba7c').innerHTML = '';\n",
       "    document.getElementById('1ce08231-39c5-41ab-bfe6-34dae924ba7c').appendChild(renderjson({\n",
       "  \"args\": {}, \n",
       "  \"data\": \"{\\\"a\\\": \\\"b\\\"}\", \n",
       "  \"files\": {}, \n",
       "  \"form\": {}, \n",
       "  \"headers\": {\n",
       "    \"Accept\": \"*/*\", \n",
       "    \"Accept-Encoding\": \"gzip, deflate\", \n",
       "    \"Connection\": \"close\", \n",
       "    \"Content-Length\": \"10\", \n",
       "    \"Content-Type\": \"application/json\", \n",
       "    \"Host\": \"httpbin.org\", \n",
       "    \"User-Agent\": \"python-requests/2.14.2\"\n",
       "  }, \n",
       "  \"json\": {\n",
       "    \"a\": \"b\"\n",
       "  }, \n",
       "  \"origin\": \"118.208.28.129\", \n",
       "  \"url\": \"http://httpbin.org/post\"\n",
       "}\n",
       "));\n",
       "  \n",
       "});\n"
      ]
     },
     "metadata": {},
     "output_type": "display_data"
    }
   ],
   "source": [
    "import json\n",
    "r = requests.post('http://httpbin.org/post', json={\"a\": \"b\"})\n",
    "display_request(r)"
   ]
  },
  {
   "cell_type": "markdown",
   "metadata": {},
   "source": [
    "## 500 error response"
   ]
  },
  {
   "cell_type": "code",
   "execution_count": 5,
   "metadata": {
    "ExecuteTime": {
     "end_time": "2017-05-28T01:34:30.554922Z",
     "start_time": "2017-05-28T01:34:30.038414Z"
    }
   },
   "outputs": [
    {
     "data": {
      "text/html": [
       "\n",
       "<style type=\"text/css\">\n",
       "\n",
       "    div.dr-b8eb16d6-8578-44d5-989d-6bc847fbd7ae {\n",
       "        width: 100%;\n",
       "    }\n",
       "    div.dr-request-b8eb16d6-8578-44d5-989d-6bc847fbd7ae {\n",
       "        border: 1px solid #d9534f;\n",
       "        display: flex;\n",
       "    }\n",
       "    div.dr-request-method-b8eb16d6-8578-44d5-989d-6bc847fbd7ae {\n",
       "        border-right: 1px solid #d9534f;\n",
       "        text-align: center;\n",
       "        flex: 0 0 50px;\n",
       "    }\n",
       "    div.dr-request-url-b8eb16d6-8578-44d5-989d-6bc847fbd7ae {\n",
       "        flex: 1;\n",
       "        padding: 0 5px;\n",
       "    }\n",
       "    div.dr-request-status-b8eb16d6-8578-44d5-989d-6bc847fbd7ae {\n",
       "        flex: 0 0 40px;\n",
       "        text-align: right;\n",
       "        padding: 0 5px;\n",
       "    }\n",
       "\n",
       "    div.dr-b8eb16d6-8578-44d5-989d-6bc847fbd7ae > h4 {\n",
       "        padding-bottom: 5px;\n",
       "        text-decoration: underline;\n",
       "    }\n",
       "    div.dr-elapsed-b8eb16d6-8578-44d5-989d-6bc847fbd7ae {\n",
       "        padding: 5px 0;\n",
       "        font-style: italic;\n",
       "        font-size: 0.9em;\n",
       "    }\n",
       "</style>\n",
       "\n",
       "<div class='dr-b8eb16d6-8578-44d5-989d-6bc847fbd7ae'>\n",
       "\n",
       "    <div class=\"dr-request-b8eb16d6-8578-44d5-989d-6bc847fbd7ae\">\n",
       "        <div class=\"dr-request-method-b8eb16d6-8578-44d5-989d-6bc847fbd7ae\">\n",
       "            GET\n",
       "        </div>\n",
       "        <div class=\"dr-request-url-b8eb16d6-8578-44d5-989d-6bc847fbd7ae\">\n",
       "            <pre>http://httpbin.org/status/500</pre>\n",
       "        </div>\n",
       "        <div class=\"dr-request-status-b8eb16d6-8578-44d5-989d-6bc847fbd7ae\">\n",
       "            <span title=\"INTERNAL SERVER ERROR\">500</span>\n",
       "        </div>\n",
       "    </div>\n",
       "    \n",
       "    <h4>Response</h4>\n",
       "    <div id=\"0abe4551-e3a3-43d0-835d-88089bfa914b\" style=\"max-height: 600px; width:100%;\">\n",
       "      \n",
       "        <pre>Empty Response</pre>\n",
       "      \n",
       "    </div>\n",
       "    <div class=\"dr-elapsed-b8eb16d6-8578-44d5-989d-6bc847fbd7ae\">\n",
       "        took 0.506731 seconds\n",
       "    </div>\n",
       "</div>"
      ]
     },
     "metadata": {},
     "output_type": "display_data"
    },
    {
     "data": {
      "application/javascript": [
       "\n",
       "require([\"https://rawgit.com/caldwell/renderjson/master/renderjson.js\"], function() {\n",
       "  \n",
       "  \n",
       "});\n"
      ]
     },
     "metadata": {},
     "output_type": "display_data"
    }
   ],
   "source": [
    "r = requests.get('http://httpbin.org/status/500')\n",
    "display_request(r)"
   ]
  }
 ],
 "metadata": {
  "kernelspec": {
   "display_name": "Python 3",
   "language": "python",
   "name": "python3"
  },
  "language_info": {
   "codemirror_mode": {
    "name": "ipython",
    "version": 3
   },
   "file_extension": ".py",
   "mimetype": "text/x-python",
   "name": "python",
   "nbconvert_exporter": "python",
   "pygments_lexer": "ipython3",
   "version": "3.6.1"
  }
 },
 "nbformat": 4,
 "nbformat_minor": 2
}
