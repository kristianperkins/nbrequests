{
 "cells": [
  {
   "cell_type": "markdown",
   "metadata": {},
   "source": [
    "# Example nbrequests\n",
    "\n",
    "Pretty printing requests/responses from the [python requests](http://requests.readthedocs.io/) library in Jupyter notebook."
   ]
  },
  {
   "cell_type": "code",
   "execution_count": 1,
   "metadata": {
    "ExecuteTime": {
     "end_time": "2017-06-07T11:49:36.154710Z",
     "start_time": "2017-06-07T11:49:35.624036Z"
    },
    "collapsed": true
   },
   "outputs": [],
   "source": [
    "# autoreload for development\n",
    "%load_ext autoreload\n",
    "%autoreload 1\n",
    "%aimport nbrequests\n",
    "\n",
    "import requests\n",
    "from nbrequests import display_request"
   ]
  },
  {
   "cell_type": "markdown",
   "metadata": {},
   "source": [
    "## GET request\n",
    "\n",
    "Execute `requests.get('...')` and format the result in the notebook output using `display_request(r)`."
   ]
  },
  {
   "cell_type": "code",
   "execution_count": 2,
   "metadata": {
    "ExecuteTime": {
     "end_time": "2017-06-07T11:49:40.241225Z",
     "start_time": "2017-06-07T11:49:38.973690Z"
    }
   },
   "outputs": [
    {
     "data": {
      "text/html": [
       "\n",
       "<style type=\"text/css\">\n",
       "\n",
       "    div.dr-f0077bb3-118f-4c4e-9d87-749fbb76b722 {\n",
       "        width: 100%;\n",
       "    }\n",
       "    div.dr-request-f0077bb3-118f-4c4e-9d87-749fbb76b722 {\n",
       "        background-color: #5cb85c;\n",
       "        color: white;\n",
       "        display: flex;\n",
       "        height: 20px;\n",
       "    }\n",
       "    div.dr-request-f0077bb3-118f-4c4e-9d87-749fbb76b722 pre {\n",
       "        color: white;\n",
       "    }\n",
       "    div.dr-request-method-f0077bb3-118f-4c4e-9d87-749fbb76b722 {\n",
       "        background-color: #5cb85c;\n",
       "        color: white;\n",
       "        text-align: center;\n",
       "        flex: 0 0 50px;\n",
       "    }\n",
       "    div.dr-request-url-f0077bb3-118f-4c4e-9d87-749fbb76b722 {\n",
       "        flex: 1;\n",
       "        padding: 0 5px;\n",
       "    }\n",
       "    div.dr-request-status-f0077bb3-118f-4c4e-9d87-749fbb76b722 {\n",
       "        flex: 0 0 40px;\n",
       "        text-align: right;\n",
       "        padding: 0 5px;\n",
       "    }\n",
       "\n",
       "    div.dr-f0077bb3-118f-4c4e-9d87-749fbb76b722 > h4 {\n",
       "        padding-bottom: 5px;\n",
       "        text-decoration: underline;\n",
       "    }\n",
       "    div.dr-elapsed-f0077bb3-118f-4c4e-9d87-749fbb76b722 {\n",
       "        padding: 5px 0;\n",
       "        font-style: italic;\n",
       "        font-size: 0.9em;\n",
       "    }\n",
       "</style>\n",
       "\n",
       "<div class='dr-f0077bb3-118f-4c4e-9d87-749fbb76b722'>\n",
       "\n",
       "    <div class=\"dr-request-f0077bb3-118f-4c4e-9d87-749fbb76b722\">\n",
       "        <div class=\"dr-request-method-f0077bb3-118f-4c4e-9d87-749fbb76b722\">\n",
       "            GET\n",
       "        </div>\n",
       "        <div class=\"dr-request-url-f0077bb3-118f-4c4e-9d87-749fbb76b722\">\n",
       "            <pre>http://httpbin.org/get</pre>\n",
       "        </div>\n",
       "        <div class=\"dr-request-status-f0077bb3-118f-4c4e-9d87-749fbb76b722\">\n",
       "            <span title=\"OK\">200</span>\n",
       "        </div>\n",
       "    </div>\n",
       "    \n",
       "    <h4>Response</h4>\n",
       "    <div id=\"9036960f-72e6-49fe-88ef-ddfb5e5077c9\" style=\"width:100%;\">\n",
       "      \n",
       "    </div>\n",
       "    <div class=\"dr-elapsed-f0077bb3-118f-4c4e-9d87-749fbb76b722\">\n",
       "        took 1.042982 seconds\n",
       "    </div>\n",
       "</div>"
      ]
     },
     "metadata": {},
     "output_type": "display_data"
    },
    {
     "data": {
      "application/javascript": [
       "\n",
       "require([\"https://rawgit.com/caldwell/renderjson/master/renderjson.js\"], function() {\n",
       "  \n",
       "  \n",
       "    document.getElementById('9036960f-72e6-49fe-88ef-ddfb5e5077c9').innerHTML = '';\n",
       "    document.getElementById('9036960f-72e6-49fe-88ef-ddfb5e5077c9').appendChild(renderjson({\n",
       "  \"args\": {}, \n",
       "  \"headers\": {\n",
       "    \"Accept\": \"*/*\", \n",
       "    \"Accept-Encoding\": \"gzip, deflate\", \n",
       "    \"Connection\": \"close\", \n",
       "    \"Host\": \"httpbin.org\", \n",
       "    \"User-Agent\": \"python-requests/2.14.2\"\n",
       "  }, \n",
       "  \"origin\": \"118.208.31.199\", \n",
       "  \"url\": \"http://httpbin.org/get\"\n",
       "}\n",
       "));\n",
       "  \n",
       "});\n"
      ]
     },
     "metadata": {},
     "output_type": "display_data"
    }
   ],
   "source": [
    "r = requests.get('http://httpbin.org/get')\n",
    "display_request(r)"
   ]
  },
  {
   "cell_type": "markdown",
   "metadata": {},
   "source": [
    "## POST request"
   ]
  },
  {
   "cell_type": "code",
   "execution_count": 3,
   "metadata": {
    "ExecuteTime": {
     "end_time": "2017-06-07T11:49:44.022410Z",
     "start_time": "2017-06-07T11:49:42.982732Z"
    }
   },
   "outputs": [
    {
     "data": {
      "text/html": [
       "\n",
       "<style type=\"text/css\">\n",
       "\n",
       "    div.dr-2fd7373e-fc8d-4f51-ad50-ebd90052bcfe {\n",
       "        width: 100%;\n",
       "    }\n",
       "    div.dr-request-2fd7373e-fc8d-4f51-ad50-ebd90052bcfe {\n",
       "        background-color: #5cb85c;\n",
       "        color: white;\n",
       "        display: flex;\n",
       "        height: 20px;\n",
       "    }\n",
       "    div.dr-request-2fd7373e-fc8d-4f51-ad50-ebd90052bcfe pre {\n",
       "        color: white;\n",
       "    }\n",
       "    div.dr-request-method-2fd7373e-fc8d-4f51-ad50-ebd90052bcfe {\n",
       "        background-color: #5cb85c;\n",
       "        color: white;\n",
       "        text-align: center;\n",
       "        flex: 0 0 50px;\n",
       "    }\n",
       "    div.dr-request-url-2fd7373e-fc8d-4f51-ad50-ebd90052bcfe {\n",
       "        flex: 1;\n",
       "        padding: 0 5px;\n",
       "    }\n",
       "    div.dr-request-status-2fd7373e-fc8d-4f51-ad50-ebd90052bcfe {\n",
       "        flex: 0 0 40px;\n",
       "        text-align: right;\n",
       "        padding: 0 5px;\n",
       "    }\n",
       "\n",
       "    div.dr-2fd7373e-fc8d-4f51-ad50-ebd90052bcfe > h4 {\n",
       "        padding-bottom: 5px;\n",
       "        text-decoration: underline;\n",
       "    }\n",
       "    div.dr-elapsed-2fd7373e-fc8d-4f51-ad50-ebd90052bcfe {\n",
       "        padding: 5px 0;\n",
       "        font-style: italic;\n",
       "        font-size: 0.9em;\n",
       "    }\n",
       "</style>\n",
       "\n",
       "<div class='dr-2fd7373e-fc8d-4f51-ad50-ebd90052bcfe'>\n",
       "\n",
       "    <div class=\"dr-request-2fd7373e-fc8d-4f51-ad50-ebd90052bcfe\">\n",
       "        <div class=\"dr-request-method-2fd7373e-fc8d-4f51-ad50-ebd90052bcfe\">\n",
       "            POST\n",
       "        </div>\n",
       "        <div class=\"dr-request-url-2fd7373e-fc8d-4f51-ad50-ebd90052bcfe\">\n",
       "            <pre>http://httpbin.org/post</pre>\n",
       "        </div>\n",
       "        <div class=\"dr-request-status-2fd7373e-fc8d-4f51-ad50-ebd90052bcfe\">\n",
       "            <span title=\"OK\">200</span>\n",
       "        </div>\n",
       "    </div>\n",
       "    \n",
       "        <h4>Request</h4>\n",
       "        <div id=\"2fd7373e-fc8d-4f51-ad50-ebd90052bcfe\" style=\"width:100%;\">\n",
       "          \n",
       "            <pre>text data</pre>\n",
       "          \n",
       "        </div>\n",
       "    \n",
       "    <h4>Response</h4>\n",
       "    <div id=\"216c08c6-78e3-46ea-be6e-a1fa807db96e\" style=\"width:100%;\">\n",
       "      \n",
       "    </div>\n",
       "    <div class=\"dr-elapsed-2fd7373e-fc8d-4f51-ad50-ebd90052bcfe\">\n",
       "        took 0.507732 seconds\n",
       "    </div>\n",
       "</div>"
      ]
     },
     "metadata": {},
     "output_type": "display_data"
    },
    {
     "data": {
      "application/javascript": [
       "\n",
       "require([\"https://rawgit.com/caldwell/renderjson/master/renderjson.js\"], function() {\n",
       "  \n",
       "  \n",
       "    document.getElementById('216c08c6-78e3-46ea-be6e-a1fa807db96e').innerHTML = '';\n",
       "    document.getElementById('216c08c6-78e3-46ea-be6e-a1fa807db96e').appendChild(renderjson({\n",
       "  \"args\": {}, \n",
       "  \"data\": \"text data\", \n",
       "  \"files\": {}, \n",
       "  \"form\": {}, \n",
       "  \"headers\": {\n",
       "    \"Accept\": \"*/*\", \n",
       "    \"Accept-Encoding\": \"gzip, deflate\", \n",
       "    \"Connection\": \"close\", \n",
       "    \"Content-Length\": \"9\", \n",
       "    \"Host\": \"httpbin.org\", \n",
       "    \"User-Agent\": \"python-requests/2.14.2\"\n",
       "  }, \n",
       "  \"json\": null, \n",
       "  \"origin\": \"118.208.31.199\", \n",
       "  \"url\": \"http://httpbin.org/post\"\n",
       "}\n",
       "));\n",
       "  \n",
       "});\n"
      ]
     },
     "metadata": {},
     "output_type": "display_data"
    },
    {
     "data": {
      "text/html": [
       "\n",
       "<style type=\"text/css\">\n",
       "\n",
       "    div.dr-e1ec8eca-1384-4286-b6a8-8e4828f01a3a {\n",
       "        width: 100%;\n",
       "    }\n",
       "    div.dr-request-e1ec8eca-1384-4286-b6a8-8e4828f01a3a {\n",
       "        background-color: #5cb85c;\n",
       "        color: white;\n",
       "        display: flex;\n",
       "        height: 20px;\n",
       "    }\n",
       "    div.dr-request-e1ec8eca-1384-4286-b6a8-8e4828f01a3a pre {\n",
       "        color: white;\n",
       "    }\n",
       "    div.dr-request-method-e1ec8eca-1384-4286-b6a8-8e4828f01a3a {\n",
       "        background-color: #5cb85c;\n",
       "        color: white;\n",
       "        text-align: center;\n",
       "        flex: 0 0 50px;\n",
       "    }\n",
       "    div.dr-request-url-e1ec8eca-1384-4286-b6a8-8e4828f01a3a {\n",
       "        flex: 1;\n",
       "        padding: 0 5px;\n",
       "    }\n",
       "    div.dr-request-status-e1ec8eca-1384-4286-b6a8-8e4828f01a3a {\n",
       "        flex: 0 0 40px;\n",
       "        text-align: right;\n",
       "        padding: 0 5px;\n",
       "    }\n",
       "\n",
       "    div.dr-e1ec8eca-1384-4286-b6a8-8e4828f01a3a > h4 {\n",
       "        padding-bottom: 5px;\n",
       "        text-decoration: underline;\n",
       "    }\n",
       "    div.dr-elapsed-e1ec8eca-1384-4286-b6a8-8e4828f01a3a {\n",
       "        padding: 5px 0;\n",
       "        font-style: italic;\n",
       "        font-size: 0.9em;\n",
       "    }\n",
       "</style>\n",
       "\n",
       "<div class='dr-e1ec8eca-1384-4286-b6a8-8e4828f01a3a'>\n",
       "\n",
       "    <div class=\"dr-request-e1ec8eca-1384-4286-b6a8-8e4828f01a3a\">\n",
       "        <div class=\"dr-request-method-e1ec8eca-1384-4286-b6a8-8e4828f01a3a\">\n",
       "            POST\n",
       "        </div>\n",
       "        <div class=\"dr-request-url-e1ec8eca-1384-4286-b6a8-8e4828f01a3a\">\n",
       "            <pre>http://httpbin.org/post</pre>\n",
       "        </div>\n",
       "        <div class=\"dr-request-status-e1ec8eca-1384-4286-b6a8-8e4828f01a3a\">\n",
       "            <span title=\"OK\">200</span>\n",
       "        </div>\n",
       "    </div>\n",
       "    \n",
       "        <h4>Request</h4>\n",
       "        <div id=\"e1ec8eca-1384-4286-b6a8-8e4828f01a3a\" style=\"width:100%;\">\n",
       "          \n",
       "            <pre>b'binary data'</pre>\n",
       "          \n",
       "        </div>\n",
       "    \n",
       "    <h4>Response</h4>\n",
       "    <div id=\"c0ed2fbf-afc9-44e1-8562-6303aa7bb0c7\" style=\"width:100%;\">\n",
       "      \n",
       "    </div>\n",
       "    <div class=\"dr-elapsed-e1ec8eca-1384-4286-b6a8-8e4828f01a3a\">\n",
       "        took 0.510205 seconds\n",
       "    </div>\n",
       "</div>"
      ]
     },
     "metadata": {},
     "output_type": "display_data"
    },
    {
     "data": {
      "application/javascript": [
       "\n",
       "require([\"https://rawgit.com/caldwell/renderjson/master/renderjson.js\"], function() {\n",
       "  \n",
       "  \n",
       "    document.getElementById('c0ed2fbf-afc9-44e1-8562-6303aa7bb0c7').innerHTML = '';\n",
       "    document.getElementById('c0ed2fbf-afc9-44e1-8562-6303aa7bb0c7').appendChild(renderjson({\n",
       "  \"args\": {}, \n",
       "  \"data\": \"binary data\", \n",
       "  \"files\": {}, \n",
       "  \"form\": {}, \n",
       "  \"headers\": {\n",
       "    \"Accept\": \"*/*\", \n",
       "    \"Accept-Encoding\": \"gzip, deflate\", \n",
       "    \"Connection\": \"close\", \n",
       "    \"Content-Length\": \"11\", \n",
       "    \"Host\": \"httpbin.org\", \n",
       "    \"User-Agent\": \"python-requests/2.14.2\"\n",
       "  }, \n",
       "  \"json\": null, \n",
       "  \"origin\": \"118.208.31.199\", \n",
       "  \"url\": \"http://httpbin.org/post\"\n",
       "}\n",
       "));\n",
       "  \n",
       "});\n"
      ]
     },
     "metadata": {},
     "output_type": "display_data"
    }
   ],
   "source": [
    "r = requests.post('http://httpbin.org/post', data='text data')\n",
    "display_request(r)\n",
    "r = requests.post('http://httpbin.org/post', data=b'binary data')\n",
    "display_request(r)"
   ]
  },
  {
   "cell_type": "markdown",
   "metadata": {},
   "source": [
    "## JSON POST request\n",
    "\n",
    "JSON is currently renderer using [Renderjson](https://github.com/caldwell/renderjson/)."
   ]
  },
  {
   "cell_type": "code",
   "execution_count": 4,
   "metadata": {
    "ExecuteTime": {
     "end_time": "2017-06-07T11:49:45.595551Z",
     "start_time": "2017-06-07T11:49:45.072665Z"
    }
   },
   "outputs": [
    {
     "data": {
      "text/html": [
       "\n",
       "<style type=\"text/css\">\n",
       "\n",
       "    div.dr-dbc91d15-7c3c-4af5-8ae8-e891bf258739 {\n",
       "        width: 100%;\n",
       "    }\n",
       "    div.dr-request-dbc91d15-7c3c-4af5-8ae8-e891bf258739 {\n",
       "        background-color: #5cb85c;\n",
       "        color: white;\n",
       "        display: flex;\n",
       "        height: 20px;\n",
       "    }\n",
       "    div.dr-request-dbc91d15-7c3c-4af5-8ae8-e891bf258739 pre {\n",
       "        color: white;\n",
       "    }\n",
       "    div.dr-request-method-dbc91d15-7c3c-4af5-8ae8-e891bf258739 {\n",
       "        background-color: #5cb85c;\n",
       "        color: white;\n",
       "        text-align: center;\n",
       "        flex: 0 0 50px;\n",
       "    }\n",
       "    div.dr-request-url-dbc91d15-7c3c-4af5-8ae8-e891bf258739 {\n",
       "        flex: 1;\n",
       "        padding: 0 5px;\n",
       "    }\n",
       "    div.dr-request-status-dbc91d15-7c3c-4af5-8ae8-e891bf258739 {\n",
       "        flex: 0 0 40px;\n",
       "        text-align: right;\n",
       "        padding: 0 5px;\n",
       "    }\n",
       "\n",
       "    div.dr-dbc91d15-7c3c-4af5-8ae8-e891bf258739 > h4 {\n",
       "        padding-bottom: 5px;\n",
       "        text-decoration: underline;\n",
       "    }\n",
       "    div.dr-elapsed-dbc91d15-7c3c-4af5-8ae8-e891bf258739 {\n",
       "        padding: 5px 0;\n",
       "        font-style: italic;\n",
       "        font-size: 0.9em;\n",
       "    }\n",
       "</style>\n",
       "\n",
       "<div class='dr-dbc91d15-7c3c-4af5-8ae8-e891bf258739'>\n",
       "\n",
       "    <div class=\"dr-request-dbc91d15-7c3c-4af5-8ae8-e891bf258739\">\n",
       "        <div class=\"dr-request-method-dbc91d15-7c3c-4af5-8ae8-e891bf258739\">\n",
       "            POST\n",
       "        </div>\n",
       "        <div class=\"dr-request-url-dbc91d15-7c3c-4af5-8ae8-e891bf258739\">\n",
       "            <pre>http://httpbin.org/post</pre>\n",
       "        </div>\n",
       "        <div class=\"dr-request-status-dbc91d15-7c3c-4af5-8ae8-e891bf258739\">\n",
       "            <span title=\"OK\">200</span>\n",
       "        </div>\n",
       "    </div>\n",
       "    \n",
       "        <h4>Request</h4>\n",
       "        <div id=\"dbc91d15-7c3c-4af5-8ae8-e891bf258739\" style=\"width:100%;\">\n",
       "          \n",
       "        </div>\n",
       "    \n",
       "    <h4>Response</h4>\n",
       "    <div id=\"2dcf9435-c88c-4da0-8a6e-9078da17da4b\" style=\"width:100%;\">\n",
       "      \n",
       "    </div>\n",
       "    <div class=\"dr-elapsed-dbc91d15-7c3c-4af5-8ae8-e891bf258739\">\n",
       "        took 0.511623 seconds\n",
       "    </div>\n",
       "</div>"
      ]
     },
     "metadata": {},
     "output_type": "display_data"
    },
    {
     "data": {
      "application/javascript": [
       "\n",
       "require([\"https://rawgit.com/caldwell/renderjson/master/renderjson.js\"], function() {\n",
       "  \n",
       "    document.getElementById('dbc91d15-7c3c-4af5-8ae8-e891bf258739').innerHTML = '';\n",
       "    document.getElementById('dbc91d15-7c3c-4af5-8ae8-e891bf258739').appendChild(renderjson({\"a\": \"b\"}));\n",
       "  \n",
       "  \n",
       "    document.getElementById('2dcf9435-c88c-4da0-8a6e-9078da17da4b').innerHTML = '';\n",
       "    document.getElementById('2dcf9435-c88c-4da0-8a6e-9078da17da4b').appendChild(renderjson({\n",
       "  \"args\": {}, \n",
       "  \"data\": \"{\\\"a\\\": \\\"b\\\"}\", \n",
       "  \"files\": {}, \n",
       "  \"form\": {}, \n",
       "  \"headers\": {\n",
       "    \"Accept\": \"*/*\", \n",
       "    \"Accept-Encoding\": \"gzip, deflate\", \n",
       "    \"Connection\": \"close\", \n",
       "    \"Content-Length\": \"10\", \n",
       "    \"Content-Type\": \"application/json\", \n",
       "    \"Host\": \"httpbin.org\", \n",
       "    \"User-Agent\": \"python-requests/2.14.2\"\n",
       "  }, \n",
       "  \"json\": {\n",
       "    \"a\": \"b\"\n",
       "  }, \n",
       "  \"origin\": \"118.208.31.199\", \n",
       "  \"url\": \"http://httpbin.org/post\"\n",
       "}\n",
       "));\n",
       "  \n",
       "});\n"
      ]
     },
     "metadata": {},
     "output_type": "display_data"
    }
   ],
   "source": [
    "import json\n",
    "r = requests.post('http://httpbin.org/post', json={\"a\": \"b\"})\n",
    "display_request(r)"
   ]
  },
  {
   "cell_type": "markdown",
   "metadata": {},
   "source": [
    "## 500 error response"
   ]
  },
  {
   "cell_type": "code",
   "execution_count": 5,
   "metadata": {
    "ExecuteTime": {
     "end_time": "2017-06-07T11:49:48.025037Z",
     "start_time": "2017-06-07T11:49:47.501389Z"
    }
   },
   "outputs": [
    {
     "data": {
      "text/html": [
       "\n",
       "<style type=\"text/css\">\n",
       "\n",
       "    div.dr-90083d4a-085c-4684-8707-cedbf226ef50 {\n",
       "        width: 100%;\n",
       "    }\n",
       "    div.dr-request-90083d4a-085c-4684-8707-cedbf226ef50 {\n",
       "        background-color: #d9534f;\n",
       "        color: white;\n",
       "        display: flex;\n",
       "        height: 20px;\n",
       "    }\n",
       "    div.dr-request-90083d4a-085c-4684-8707-cedbf226ef50 pre {\n",
       "        color: white;\n",
       "    }\n",
       "    div.dr-request-method-90083d4a-085c-4684-8707-cedbf226ef50 {\n",
       "        background-color: #d9534f;\n",
       "        color: white;\n",
       "        text-align: center;\n",
       "        flex: 0 0 50px;\n",
       "    }\n",
       "    div.dr-request-url-90083d4a-085c-4684-8707-cedbf226ef50 {\n",
       "        flex: 1;\n",
       "        padding: 0 5px;\n",
       "    }\n",
       "    div.dr-request-status-90083d4a-085c-4684-8707-cedbf226ef50 {\n",
       "        flex: 0 0 40px;\n",
       "        text-align: right;\n",
       "        padding: 0 5px;\n",
       "    }\n",
       "\n",
       "    div.dr-90083d4a-085c-4684-8707-cedbf226ef50 > h4 {\n",
       "        padding-bottom: 5px;\n",
       "        text-decoration: underline;\n",
       "    }\n",
       "    div.dr-elapsed-90083d4a-085c-4684-8707-cedbf226ef50 {\n",
       "        padding: 5px 0;\n",
       "        font-style: italic;\n",
       "        font-size: 0.9em;\n",
       "    }\n",
       "</style>\n",
       "\n",
       "<div class='dr-90083d4a-085c-4684-8707-cedbf226ef50'>\n",
       "\n",
       "    <div class=\"dr-request-90083d4a-085c-4684-8707-cedbf226ef50\">\n",
       "        <div class=\"dr-request-method-90083d4a-085c-4684-8707-cedbf226ef50\">\n",
       "            GET\n",
       "        </div>\n",
       "        <div class=\"dr-request-url-90083d4a-085c-4684-8707-cedbf226ef50\">\n",
       "            <pre>http://httpbin.org/status/500</pre>\n",
       "        </div>\n",
       "        <div class=\"dr-request-status-90083d4a-085c-4684-8707-cedbf226ef50\">\n",
       "            <span title=\"INTERNAL SERVER ERROR\">500</span>\n",
       "        </div>\n",
       "    </div>\n",
       "    \n",
       "    <h4>Response</h4>\n",
       "    <div id=\"68d64b01-8aa6-4745-898c-695988817e38\" style=\"width:100%;\">\n",
       "      \n",
       "        <pre>Empty Response</pre>\n",
       "      \n",
       "    </div>\n",
       "    <div class=\"dr-elapsed-90083d4a-085c-4684-8707-cedbf226ef50\">\n",
       "        took 0.509652 seconds\n",
       "    </div>\n",
       "</div>"
      ]
     },
     "metadata": {},
     "output_type": "display_data"
    },
    {
     "data": {
      "application/javascript": [
       "\n",
       "require([\"https://rawgit.com/caldwell/renderjson/master/renderjson.js\"], function() {\n",
       "  \n",
       "  \n",
       "});\n"
      ]
     },
     "metadata": {},
     "output_type": "display_data"
    }
   ],
   "source": [
    "r = requests.get('http://httpbin.org/status/500')\n",
    "display_request(r)"
   ]
  }
 ],
 "metadata": {
  "kernelspec": {
   "display_name": "Python 3",
   "language": "python",
   "name": "python3"
  },
  "language_info": {
   "codemirror_mode": {
    "name": "ipython",
    "version": 3
   },
   "file_extension": ".py",
   "mimetype": "text/x-python",
   "name": "python",
   "nbconvert_exporter": "python",
   "pygments_lexer": "ipython3",
   "version": "3.6.1"
  }
 },
 "nbformat": 4,
 "nbformat_minor": 2
}
