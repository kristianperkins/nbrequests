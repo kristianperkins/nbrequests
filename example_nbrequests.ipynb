{
 "cells": [
  {
   "cell_type": "markdown",
   "metadata": {},
   "source": [
    "# Example nbrequests\n",
    "\n",
    "Pretty printing requests/responses from the [python requests](http://requests.readthedocs.io/) library in Jupyter notebook."
   ]
  },
  {
   "cell_type": "code",
   "execution_count": 1,
   "metadata": {
    "ExecuteTime": {
     "end_time": "2017-05-27T13:53:39.717563Z",
     "start_time": "2017-05-27T13:53:39.129903Z"
    },
    "collapsed": true
   },
   "outputs": [],
   "source": [
    "# autoreload for development\n",
    "%load_ext autoreload\n",
    "%autoreload 1\n",
    "%aimport nbrequests\n",
    "\n",
    "import requests\n",
    "from nbrequests import display_request"
   ]
  },
  {
   "cell_type": "markdown",
   "metadata": {},
   "source": [
    "## GET request\n",
    "\n",
    "Execute `requests.get('...')` and format the result in the notebook output using `display_request(r)`."
   ]
  },
  {
   "cell_type": "code",
   "execution_count": 2,
   "metadata": {
    "ExecuteTime": {
     "end_time": "2017-05-27T13:53:40.714219Z",
     "start_time": "2017-05-27T13:53:39.720486Z"
    }
   },
   "outputs": [
    {
     "data": {
      "text/html": [
       "\n",
       "<style type=\"text/css\">\n",
       "\n",
       "    div.dr-77a5b530-a45f-4cc7-a3f0-710830a1e11d {\n",
       "        width: 100%;\n",
       "    }\n",
       "    div.dr-request-77a5b530-a45f-4cc7-a3f0-710830a1e11d {\n",
       "        border: 1px solid #5cb85c;\n",
       "        display: flex;\n",
       "    }\n",
       "    div.dr-request-method-77a5b530-a45f-4cc7-a3f0-710830a1e11d {\n",
       "        border-right: 1px solid #5cb85c;\n",
       "        text-align: center;\n",
       "        flex: 0 0 50px;\n",
       "    }\n",
       "    div.dr-request-url-77a5b530-a45f-4cc7-a3f0-710830a1e11d {\n",
       "        flex: 1;\n",
       "        padding: 0 5px;\n",
       "    }\n",
       "    div.dr-request-status-77a5b530-a45f-4cc7-a3f0-710830a1e11d {\n",
       "        flex: 0 0 40px;\n",
       "        text-align: right;\n",
       "        padding: 0 5px;\n",
       "    }\n",
       "\n",
       "    div.dr-77a5b530-a45f-4cc7-a3f0-710830a1e11d > h4 {\n",
       "        padding-bottom: 5px;\n",
       "        text-decoration: underline;\n",
       "    }\n",
       "    div.dr-elapsed-77a5b530-a45f-4cc7-a3f0-710830a1e11d {\n",
       "        padding: 5px 0;\n",
       "        font-style: italic;\n",
       "        font-size: 0.9em;\n",
       "    }\n",
       "</style>\n",
       "\n",
       "<div class='dr-77a5b530-a45f-4cc7-a3f0-710830a1e11d'>\n",
       "\n",
       "    <div class=\"dr-request-77a5b530-a45f-4cc7-a3f0-710830a1e11d\">\n",
       "        <div class=\"dr-request-method-77a5b530-a45f-4cc7-a3f0-710830a1e11d\">\n",
       "            GET\n",
       "        </div>\n",
       "        <div class=\"dr-request-url-77a5b530-a45f-4cc7-a3f0-710830a1e11d\">\n",
       "            <pre>http://httpbin.org/get</pre>\n",
       "        </div>\n",
       "        <div class=\"dr-request-status-77a5b530-a45f-4cc7-a3f0-710830a1e11d\">\n",
       "            <span title=\"OK\">200</span>\n",
       "        </div>\n",
       "    </div>\n",
       "    \n",
       "    <h4>Response</h4>\n",
       "    <div id=\"00001c8d-5ced-4ed3-bbb0-525a37073151\" style=\"max-height: 600px; width:100%;\">\n",
       "      \n",
       "    </div>\n",
       "    <div class=\"dr-elapsed-77a5b530-a45f-4cc7-a3f0-710830a1e11d\">\n",
       "        took 0.532908 seconds\n",
       "    </div>\n",
       "</div>"
      ]
     },
     "metadata": {},
     "output_type": "display_data"
    },
    {
     "data": {
      "application/javascript": [
       "\n",
       "require([\"https://rawgit.com/caldwell/renderjson/master/renderjson.js\"], function() {\n",
       "  \n",
       "  \n",
       "    document.getElementById('00001c8d-5ced-4ed3-bbb0-525a37073151').innerHTML = '';\n",
       "    document.getElementById('00001c8d-5ced-4ed3-bbb0-525a37073151').appendChild(renderjson({\n",
       "  \"args\": {}, \n",
       "  \"headers\": {\n",
       "    \"Accept\": \"*/*\", \n",
       "    \"Accept-Encoding\": \"gzip, deflate\", \n",
       "    \"Connection\": \"close\", \n",
       "    \"Host\": \"httpbin.org\", \n",
       "    \"User-Agent\": \"python-requests/2.14.2\"\n",
       "  }, \n",
       "  \"origin\": \"118.208.28.129\", \n",
       "  \"url\": \"http://httpbin.org/get\"\n",
       "}\n",
       "));\n",
       "  \n",
       "});\n"
      ]
     },
     "metadata": {},
     "output_type": "display_data"
    }
   ],
   "source": [
    "r = requests.get('http://httpbin.org/get')\n",
    "display_request(r)"
   ]
  },
  {
   "cell_type": "markdown",
   "metadata": {},
   "source": [
    "## POST request"
   ]
  },
  {
   "cell_type": "code",
   "execution_count": 3,
   "metadata": {
    "ExecuteTime": {
     "end_time": "2017-05-27T13:53:41.243632Z",
     "start_time": "2017-05-27T13:53:40.716992Z"
    }
   },
   "outputs": [
    {
     "data": {
      "text/html": [
       "\n",
       "<style type=\"text/css\">\n",
       "\n",
       "    div.dr-96651996-bf76-451d-9b6f-7ede7eea2983 {\n",
       "        width: 100%;\n",
       "    }\n",
       "    div.dr-request-96651996-bf76-451d-9b6f-7ede7eea2983 {\n",
       "        border: 1px solid #5cb85c;\n",
       "        display: flex;\n",
       "    }\n",
       "    div.dr-request-method-96651996-bf76-451d-9b6f-7ede7eea2983 {\n",
       "        border-right: 1px solid #5cb85c;\n",
       "        text-align: center;\n",
       "        flex: 0 0 50px;\n",
       "    }\n",
       "    div.dr-request-url-96651996-bf76-451d-9b6f-7ede7eea2983 {\n",
       "        flex: 1;\n",
       "        padding: 0 5px;\n",
       "    }\n",
       "    div.dr-request-status-96651996-bf76-451d-9b6f-7ede7eea2983 {\n",
       "        flex: 0 0 40px;\n",
       "        text-align: right;\n",
       "        padding: 0 5px;\n",
       "    }\n",
       "\n",
       "    div.dr-96651996-bf76-451d-9b6f-7ede7eea2983 > h4 {\n",
       "        padding-bottom: 5px;\n",
       "        text-decoration: underline;\n",
       "    }\n",
       "    div.dr-elapsed-96651996-bf76-451d-9b6f-7ede7eea2983 {\n",
       "        padding: 5px 0;\n",
       "        font-style: italic;\n",
       "        font-size: 0.9em;\n",
       "    }\n",
       "</style>\n",
       "\n",
       "<div class='dr-96651996-bf76-451d-9b6f-7ede7eea2983'>\n",
       "\n",
       "    <div class=\"dr-request-96651996-bf76-451d-9b6f-7ede7eea2983\">\n",
       "        <div class=\"dr-request-method-96651996-bf76-451d-9b6f-7ede7eea2983\">\n",
       "            POST\n",
       "        </div>\n",
       "        <div class=\"dr-request-url-96651996-bf76-451d-9b6f-7ede7eea2983\">\n",
       "            <pre>http://httpbin.org/post</pre>\n",
       "        </div>\n",
       "        <div class=\"dr-request-status-96651996-bf76-451d-9b6f-7ede7eea2983\">\n",
       "            <span title=\"OK\">200</span>\n",
       "        </div>\n",
       "    </div>\n",
       "    \n",
       "        <h4>Request</h4>\n",
       "        <div id=\"96651996-bf76-451d-9b6f-7ede7eea2983\" style=\"max-height: 600px; width:100%;\">\n",
       "          \n",
       "            <pre>text data</pre>\n",
       "          \n",
       "        </div>\n",
       "    \n",
       "    <h4>Response</h4>\n",
       "    <div id=\"fb81f4f1-98c0-4bea-839c-05f10861519e\" style=\"max-height: 600px; width:100%;\">\n",
       "      \n",
       "    </div>\n",
       "    <div class=\"dr-elapsed-96651996-bf76-451d-9b6f-7ede7eea2983\">\n",
       "        took 0.514652 seconds\n",
       "    </div>\n",
       "</div>"
      ]
     },
     "metadata": {},
     "output_type": "display_data"
    },
    {
     "data": {
      "application/javascript": [
       "\n",
       "require([\"https://rawgit.com/caldwell/renderjson/master/renderjson.js\"], function() {\n",
       "  \n",
       "  \n",
       "    document.getElementById('fb81f4f1-98c0-4bea-839c-05f10861519e').innerHTML = '';\n",
       "    document.getElementById('fb81f4f1-98c0-4bea-839c-05f10861519e').appendChild(renderjson({\n",
       "  \"args\": {}, \n",
       "  \"data\": \"text data\", \n",
       "  \"files\": {}, \n",
       "  \"form\": {}, \n",
       "  \"headers\": {\n",
       "    \"Accept\": \"*/*\", \n",
       "    \"Accept-Encoding\": \"gzip, deflate\", \n",
       "    \"Connection\": \"close\", \n",
       "    \"Content-Length\": \"9\", \n",
       "    \"Host\": \"httpbin.org\", \n",
       "    \"User-Agent\": \"python-requests/2.14.2\"\n",
       "  }, \n",
       "  \"json\": null, \n",
       "  \"origin\": \"118.208.28.129\", \n",
       "  \"url\": \"http://httpbin.org/post\"\n",
       "}\n",
       "));\n",
       "  \n",
       "});\n"
      ]
     },
     "metadata": {},
     "output_type": "display_data"
    }
   ],
   "source": [
    "r = requests.post('http://httpbin.org/post', data='text data')\n",
    "display_request(r)"
   ]
  },
  {
   "cell_type": "markdown",
   "metadata": {},
   "source": [
    "## JSON POST request\n",
    "\n",
    "JSON is currently renderer using [Renderjson](https://github.com/caldwell/renderjson/)."
   ]
  },
  {
   "cell_type": "code",
   "execution_count": 4,
   "metadata": {
    "ExecuteTime": {
     "end_time": "2017-05-27T13:53:41.760970Z",
     "start_time": "2017-05-27T13:53:41.245847Z"
    }
   },
   "outputs": [
    {
     "data": {
      "text/html": [
       "\n",
       "<style type=\"text/css\">\n",
       "\n",
       "    div.dr-24ed01f7-9739-4dac-a063-1afb9b137026 {\n",
       "        width: 100%;\n",
       "    }\n",
       "    div.dr-request-24ed01f7-9739-4dac-a063-1afb9b137026 {\n",
       "        border: 1px solid #5cb85c;\n",
       "        display: flex;\n",
       "    }\n",
       "    div.dr-request-method-24ed01f7-9739-4dac-a063-1afb9b137026 {\n",
       "        border-right: 1px solid #5cb85c;\n",
       "        text-align: center;\n",
       "        flex: 0 0 50px;\n",
       "    }\n",
       "    div.dr-request-url-24ed01f7-9739-4dac-a063-1afb9b137026 {\n",
       "        flex: 1;\n",
       "        padding: 0 5px;\n",
       "    }\n",
       "    div.dr-request-status-24ed01f7-9739-4dac-a063-1afb9b137026 {\n",
       "        flex: 0 0 40px;\n",
       "        text-align: right;\n",
       "        padding: 0 5px;\n",
       "    }\n",
       "\n",
       "    div.dr-24ed01f7-9739-4dac-a063-1afb9b137026 > h4 {\n",
       "        padding-bottom: 5px;\n",
       "        text-decoration: underline;\n",
       "    }\n",
       "    div.dr-elapsed-24ed01f7-9739-4dac-a063-1afb9b137026 {\n",
       "        padding: 5px 0;\n",
       "        font-style: italic;\n",
       "        font-size: 0.9em;\n",
       "    }\n",
       "</style>\n",
       "\n",
       "<div class='dr-24ed01f7-9739-4dac-a063-1afb9b137026'>\n",
       "\n",
       "    <div class=\"dr-request-24ed01f7-9739-4dac-a063-1afb9b137026\">\n",
       "        <div class=\"dr-request-method-24ed01f7-9739-4dac-a063-1afb9b137026\">\n",
       "            POST\n",
       "        </div>\n",
       "        <div class=\"dr-request-url-24ed01f7-9739-4dac-a063-1afb9b137026\">\n",
       "            <pre>http://httpbin.org/post</pre>\n",
       "        </div>\n",
       "        <div class=\"dr-request-status-24ed01f7-9739-4dac-a063-1afb9b137026\">\n",
       "            <span title=\"OK\">200</span>\n",
       "        </div>\n",
       "    </div>\n",
       "    \n",
       "        <h4>Request</h4>\n",
       "        <div id=\"24ed01f7-9739-4dac-a063-1afb9b137026\" style=\"max-height: 600px; width:100%;\">\n",
       "          \n",
       "        </div>\n",
       "    \n",
       "    <h4>Response</h4>\n",
       "    <div id=\"ec761f7c-5b78-4406-8490-ece80c28846d\" style=\"max-height: 600px; width:100%;\">\n",
       "      \n",
       "    </div>\n",
       "    <div class=\"dr-elapsed-24ed01f7-9739-4dac-a063-1afb9b137026\">\n",
       "        took 0.500656 seconds\n",
       "    </div>\n",
       "</div>"
      ]
     },
     "metadata": {},
     "output_type": "display_data"
    },
    {
     "data": {
      "application/javascript": [
       "\n",
       "require([\"https://rawgit.com/caldwell/renderjson/master/renderjson.js\"], function() {\n",
       "  \n",
       "    document.getElementById('24ed01f7-9739-4dac-a063-1afb9b137026').innerHTML = '';\n",
       "    document.getElementById('24ed01f7-9739-4dac-a063-1afb9b137026').appendChild(renderjson({\"a\": \"b\"}));\n",
       "  \n",
       "  \n",
       "    document.getElementById('ec761f7c-5b78-4406-8490-ece80c28846d').innerHTML = '';\n",
       "    document.getElementById('ec761f7c-5b78-4406-8490-ece80c28846d').appendChild(renderjson({\n",
       "  \"args\": {}, \n",
       "  \"data\": \"{\\\"a\\\": \\\"b\\\"}\", \n",
       "  \"files\": {}, \n",
       "  \"form\": {}, \n",
       "  \"headers\": {\n",
       "    \"Accept\": \"*/*\", \n",
       "    \"Accept-Encoding\": \"gzip, deflate\", \n",
       "    \"Connection\": \"close\", \n",
       "    \"Content-Length\": \"10\", \n",
       "    \"Content-Type\": \"application/json\", \n",
       "    \"Host\": \"httpbin.org\", \n",
       "    \"User-Agent\": \"python-requests/2.14.2\"\n",
       "  }, \n",
       "  \"json\": {\n",
       "    \"a\": \"b\"\n",
       "  }, \n",
       "  \"origin\": \"118.208.28.129\", \n",
       "  \"url\": \"http://httpbin.org/post\"\n",
       "}\n",
       "));\n",
       "  \n",
       "});\n"
      ]
     },
     "metadata": {},
     "output_type": "display_data"
    }
   ],
   "source": [
    "import json\n",
    "r = requests.post('http://httpbin.org/post', json={\"a\": \"b\"})\n",
    "display_request(r)"
   ]
  },
  {
   "cell_type": "markdown",
   "metadata": {},
   "source": [
    "## 500 error response"
   ]
  },
  {
   "cell_type": "code",
   "execution_count": 5,
   "metadata": {
    "ExecuteTime": {
     "end_time": "2017-05-27T13:53:42.278498Z",
     "start_time": "2017-05-27T13:53:41.763655Z"
    }
   },
   "outputs": [
    {
     "data": {
      "text/html": [
       "\n",
       "<style type=\"text/css\">\n",
       "\n",
       "    div.dr-c0d7b316-d23a-4fcf-869b-c44707d88d6b {\n",
       "        width: 100%;\n",
       "    }\n",
       "    div.dr-request-c0d7b316-d23a-4fcf-869b-c44707d88d6b {\n",
       "        border: 1px solid #d9534f;\n",
       "        display: flex;\n",
       "    }\n",
       "    div.dr-request-method-c0d7b316-d23a-4fcf-869b-c44707d88d6b {\n",
       "        border-right: 1px solid #d9534f;\n",
       "        text-align: center;\n",
       "        flex: 0 0 50px;\n",
       "    }\n",
       "    div.dr-request-url-c0d7b316-d23a-4fcf-869b-c44707d88d6b {\n",
       "        flex: 1;\n",
       "        padding: 0 5px;\n",
       "    }\n",
       "    div.dr-request-status-c0d7b316-d23a-4fcf-869b-c44707d88d6b {\n",
       "        flex: 0 0 40px;\n",
       "        text-align: right;\n",
       "        padding: 0 5px;\n",
       "    }\n",
       "\n",
       "    div.dr-c0d7b316-d23a-4fcf-869b-c44707d88d6b > h4 {\n",
       "        padding-bottom: 5px;\n",
       "        text-decoration: underline;\n",
       "    }\n",
       "    div.dr-elapsed-c0d7b316-d23a-4fcf-869b-c44707d88d6b {\n",
       "        padding: 5px 0;\n",
       "        font-style: italic;\n",
       "        font-size: 0.9em;\n",
       "    }\n",
       "</style>\n",
       "\n",
       "<div class='dr-c0d7b316-d23a-4fcf-869b-c44707d88d6b'>\n",
       "\n",
       "    <div class=\"dr-request-c0d7b316-d23a-4fcf-869b-c44707d88d6b\">\n",
       "        <div class=\"dr-request-method-c0d7b316-d23a-4fcf-869b-c44707d88d6b\">\n",
       "            GET\n",
       "        </div>\n",
       "        <div class=\"dr-request-url-c0d7b316-d23a-4fcf-869b-c44707d88d6b\">\n",
       "            <pre>http://httpbin.org/status/500</pre>\n",
       "        </div>\n",
       "        <div class=\"dr-request-status-c0d7b316-d23a-4fcf-869b-c44707d88d6b\">\n",
       "            <span title=\"INTERNAL SERVER ERROR\">500</span>\n",
       "        </div>\n",
       "    </div>\n",
       "    \n",
       "    <h4>Response</h4>\n",
       "    <div id=\"69811fd4-2b8d-4520-9c53-b78e9f2dd2c8\" style=\"max-height: 600px; width:100%;\">\n",
       "      \n",
       "        <pre>Empty Response</pre>\n",
       "      \n",
       "    </div>\n",
       "    <div class=\"dr-elapsed-c0d7b316-d23a-4fcf-869b-c44707d88d6b\">\n",
       "        took 0.503074 seconds\n",
       "    </div>\n",
       "</div>"
      ]
     },
     "metadata": {},
     "output_type": "display_data"
    },
    {
     "data": {
      "application/javascript": [
       "\n",
       "require([\"https://rawgit.com/caldwell/renderjson/master/renderjson.js\"], function() {\n",
       "  \n",
       "  \n",
       "});\n"
      ]
     },
     "metadata": {},
     "output_type": "display_data"
    }
   ],
   "source": [
    "r = requests.get('http://httpbin.org/status/500')\n",
    "display_request(r)"
   ]
  }
 ],
 "metadata": {
  "kernelspec": {
   "display_name": "Python 3",
   "language": "python",
   "name": "python3"
  },
  "language_info": {
   "codemirror_mode": {
    "name": "ipython",
    "version": 3
   },
   "file_extension": ".py",
   "mimetype": "text/x-python",
   "name": "python",
   "nbconvert_exporter": "python",
   "pygments_lexer": "ipython3",
   "version": "3.6.1"
  }
 },
 "nbformat": 4,
 "nbformat_minor": 2
}
